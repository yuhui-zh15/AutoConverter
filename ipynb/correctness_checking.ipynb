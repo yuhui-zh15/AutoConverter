{
 "cells": [
  {
   "cell_type": "code",
   "execution_count": 1,
   "metadata": {},
   "outputs": [],
   "source": [
    "import json\n",
    "import glob \n",
    "import os\n",
    "import pandas as pd\n",
    "from PIL import Image\n",
    "import base64\n",
    "import io\n",
    "from openai import OpenAI\n",
    "from pydantic import BaseModel\n",
    "from textwrap import dedent\n",
    "from tqdm import tqdm, trange\n",
    "\n",
    "\n",
    "def base64_to_image(base64_str):\n",
    "    image_data = base64.b64decode(base64_str)\n",
    "    image = Image.open(io.BytesIO(image_data))\n",
    "    return image\n",
    "\n",
    "# annotation_dir = \"/pasteur2/u/suyc/VLMEval/AutoConverter/visualization\"\n",
    "# dataset_dir = \"/pasteur2/u/suyc/VLMEval/VLMEvalKit/LMUData/\"\n",
    "\n",
    "# annotations = []\n",
    "# for filename in glob.glob(annotation_dir + \"/*/*.xlsx\"):\n",
    "#     print(filename)\n",
    "#     basename = os.path.basename(filename)\n",
    "#     data = pd.read_csv(dataset_dir + basename.replace('_correctness.xlsx', '-50.tsv'), sep='\\t').to_dict('records')[:50]\n",
    "#     annotation = pd.read_excel(filename).to_dict('records')[:50]\n",
    "#     for item, anno in zip(data, annotation):\n",
    "#         anno[\"filename\"] = basename\n",
    "#         anno[\"image\"] = item[\"image\"]\n",
    "#     annotations += annotation\n",
    "\n",
    "# # json.dump(annotations, open('annotations_20241109_0042.json', 'w'), indent=4)\n",
    "# display(len(annotations), annotations[0])\n",
    "# display(base64_to_image(annotations[0][\"image\"]))\n",
    "\n",
    "annotations = json.load(open('annotations_20241109_0042.json'))"
   ]
  },
  {
   "cell_type": "code",
   "execution_count": 2,
   "metadata": {},
   "outputs": [],
   "source": [
    "class Judgement(BaseModel):\n",
    "    reasoning: str\n",
    "    correctness: int\n",
    "\n",
    "\n",
    "client = OpenAI(timeout=20)\n",
    "\n",
    "def judge_multichoice_correctness_with_image(image_base64: str, question: str, choices: list, correct_choice: str) -> str:\n",
    "    system_prompt = f\"\"\"\n",
    "    Your task is to evaluate a multiple-choice question (with accompanying image) to determine if any incorrect choices (distractors) could also be considered correct answers.\n",
    "\n",
    "    CRITICAL: The marked correct answer MUST always be treated as valid and correct, regardless of your own assessment. Never question or evaluate the correct answer - your task is to accept it as an absolute truth and evaluate only whether other choices could also be correct.\n",
    "\n",
    "    Score the question's correctness using this scale:\n",
    "    5 - Perfect: All other choices are clearly incorrect\n",
    "    4 - Good: Other choices are mostly wrong but have minor elements of correctness\n",
    "    3 - Fair: At least one other choice could be partially correct\n",
    "    2 - Poor: At least one other choice could be equally correct\n",
    "    1 - Invalid: Multiple choices are equally valid as the correct answer\n",
    "\n",
    "    Provide:\n",
    "    1. Score (1-5)\n",
    "    2. Brief explanation focusing specifically on any problematic distractor choices\n",
    "\n",
    "    Remember: Never analyze whether the marked correct answer is right or wrong - it is ALWAYS correct by definition. Focus exclusively on whether other choices could also be valid answers.\n",
    "    \"\"\"\n",
    "\n",
    "    prompt = f\"\"\"\n",
    "    Question: {question}\n",
    "    Choices: {choices}\n",
    "    Correct Answer: {correct_choice}\n",
    "    \"\"\"\n",
    "\n",
    "    response = client.beta.chat.completions.parse(\n",
    "        model=\"gpt-4o\", \n",
    "        messages=[\n",
    "            {\"role\": \"system\", \"content\": dedent(system_prompt)}, # \"You are a helpful assistant.\"\n",
    "            {\"role\": \"user\", \"content\": [\n",
    "                {\n",
    "                    \"type\": \"text\",\n",
    "                    \"text\": dedent(prompt)\n",
    "                },\n",
    "                {\n",
    "                    \"type\": \"image_url\",\n",
    "                    \"image_url\": {\n",
    "                        \"url\": f\"data:image/jpeg;base64,{image_base64}\"\n",
    "                    }\n",
    "                }\n",
    "            ]}\n",
    "        ],\n",
    "        response_format=Judgement,\n",
    "        temperature=0  # Set to 0 for deterministic responses\n",
    "    )\n",
    "    \n",
    "    answer = response.choices[0].message.parsed.dict()\n",
    "    return answer\n",
    "\n"
   ]
  },
  {
   "cell_type": "code",
   "execution_count": 3,
   "metadata": {},
   "outputs": [
    {
     "data": {
      "text/plain": [
       "{'reasoning': 'The image shows a variety of clay vessels, which are typically associated with pottery. However, ceramics is a broader category that includes pottery, so it could also be considered partially correct. Glassblowing and sculpture are clearly incorrect as they involve different materials and techniques.',\n",
       " 'correctness': 3}"
      ]
     },
     "metadata": {},
     "output_type": "display_data"
    }
   ],
   "source": [
    "item = annotations[0]\n",
    "prediction = judge_multichoice_correctness_with_image(item[\"image\"], item[\"question\"], [item[\"A\"], item[\"B\"], item[\"C\"], item[\"D\"]], item[item[\"answer\"]])\n",
    "display(prediction)"
   ]
  },
  {
   "cell_type": "code",
   "execution_count": null,
   "metadata": {},
   "outputs": [
    {
     "name": "stderr",
     "output_type": "stream",
     "text": [
      "100%|██████████| 450/450 [01:00<00:00,  7.46it/s]\n"
     ]
    }
   ],
   "source": [
    "# predictions = []\n",
    "# for item in tqdm(annotations):\n",
    "#     prediction = judge_multichoice_correctness_with_image(item[\"image\"], item[\"question\"], [item[\"A\"], item[\"B\"], item[\"C\"], item[\"D\"]], item[item[\"answer\"]])\n",
    "#     predictions.append(prediction)\n",
    "\n",
    "\n",
    "from concurrent.futures import ProcessPoolExecutor\n",
    "from tqdm import tqdm\n",
    "\n",
    "def process_item(item):\n",
    "    return judge_multichoice_correctness_with_image(\n",
    "        item[\"image\"],\n",
    "        item[\"question\"],\n",
    "        [item[\"A\"], item[\"B\"], item[\"C\"], item[\"D\"]],\n",
    "        item[item[\"answer\"]]\n",
    "    )\n",
    "\n",
    "def parallel_judge(annotations):\n",
    "    with ProcessPoolExecutor(max_workers=32) as executor:\n",
    "        results = list(tqdm(executor.map(process_item, annotations), total=len(annotations)))\n",
    "    return results\n",
    "\n",
    "predictions = parallel_judge(annotations)"
   ]
  },
  {
   "cell_type": "code",
   "execution_count": 137,
   "metadata": {},
   "outputs": [],
   "source": [
    "json.dump(predictions, open('predictions_20241109_0251_final.json', 'w'), indent=4)"
   ]
  },
  {
   "cell_type": "code",
   "execution_count": 138,
   "metadata": {},
   "outputs": [
    {
     "name": "stdout",
     "output_type": "stream",
     "text": [
      "AUROC: 0.7651577503429356\n",
      "Accuracy: 0.8844444444444445\n",
      "Precision 0.1111111111111111\n",
      "Recall 0.022222222222222223\n",
      "F1: 0.037037037037037035\n",
      "1 1 9\n",
      "2 8 22\n",
      "3 22 67\n",
      "4 1 7\n",
      "5 13 345\n"
     ]
    }
   ],
   "source": [
    "import json\n",
    "\n",
    "predictions = json.load(open('predictions_20241109_0251_final.json'))\n",
    "annotations = json.load(open('annotations_20241109_0042.json'))\n",
    "\n",
    "preds = [item[\"correctness\"] for item in predictions]\n",
    "labels = [item[\"correctness\"] for item in annotations]\n",
    "\n",
    "# compute accuracy, f1, auroc\n",
    "from sklearn.metrics import accuracy_score, roc_auc_score, precision_recall_fscore_support\n",
    "\n",
    "\n",
    "auroc = roc_auc_score(labels, preds)\n",
    "preds_binary = [1 if pred >= 2 else 0 for pred in preds]\n",
    "\n",
    "accuracy = accuracy_score(labels, preds_binary)\n",
    "p, r, f1, _ = precision_recall_fscore_support(labels, preds_binary, average=None)\n",
    "precision = p[0]\n",
    "recall = r[0]\n",
    "f1 = f1[0]\n",
    "\n",
    "\n",
    "print(\"AUROC:\", auroc)\n",
    "print(\"Accuracy:\", accuracy)\n",
    "print(\"Precision\", precision)\n",
    "print(\"Recall\", recall)\n",
    "print(\"F1:\", f1)\n",
    "\n",
    "# if preds==1, print the percentage of questions are indeed wrong\n",
    "for i in range(1, 6):\n",
    "    selected_preds = [label for label, pred in zip(labels, preds) if pred==i]\n",
    "    print(i, selected_preds.count(0), len(selected_preds))\n"
   ]
  },
  {
   "cell_type": "code",
   "execution_count": 139,
   "metadata": {},
   "outputs": [],
   "source": [
    "# for pred, anno in zip(predictions, annotations):\n",
    "#     if pred[\"correctness\"] == 5 and anno[\"correctness\"] == 0:\n",
    "#         display(anno[\"question\"], [anno[\"A\"], anno[\"B\"], anno[\"C\"], anno[\"D\"]], anno[anno[\"answer\"]]) # , pred[\"reasoning\"])\n",
    "#         image = base64_to_image(anno[\"image\"])\n",
    "#         display(image)"
   ]
  },
  {
   "cell_type": "code",
   "execution_count": 76,
   "metadata": {},
   "outputs": [],
   "source": [
    "# for pred, anno in zip(predictions, annotations):\n",
    "#     display(pred)\n",
    "#     display(anno)\n",
    "#     image = base64_to_image(anno[\"image\"]).resize((384, 384))\n",
    "#     display(image)\n",
    "#     input()"
   ]
  },
  {
   "cell_type": "markdown",
   "metadata": {},
   "source": [
    "# Examine Data"
   ]
  },
  {
   "cell_type": "code",
   "execution_count": 23,
   "metadata": {},
   "outputs": [],
   "source": [
    "data = pd.read_csv(\"/pasteur2/u/suyc/VLMEval/VLMEvalKit/LMUData/VMCBench-1000-v2.tsv\", sep='\\t').to_dict('records')"
   ]
  },
  {
   "cell_type": "code",
   "execution_count": 84,
   "metadata": {},
   "outputs": [
    {
     "data": {
      "text/plain": [
       "{'index': 337,\n",
       " 'question': 'How to cook this dish?',\n",
       " 'A': \"This dish is called 'Lemon Garlic Butter Salmon'. This recipe combines lemon and garlic with butter, offering a rich buttery taste balanced by the zesty lemon.\",\n",
       " 'B': \"This dish is called 'Lemon Herb Crusted Mahi Mahi'. It relies on lemon zest and herbs like rosemary and thyme to create a zesty crust. The cooking method involves baking the fish instead of skillet frying.\",\n",
       " 'C': \"This dish is called 'Sweet and Sour Chicken'. The sauce combines tangy and sweet flavors, creating a classic sweet and sour experience.\",\n",
       " 'D': 'This dish is called \"Ginger Glazed Mahi Mahi\". This ginger sauce for mahi mahi is bursting with flavor and combines both sweet and sour taste sensations. This recipe is a snap and so delicious. You\\'ll love it! \\n\\n\\nPrep Time:\\n5 mins\\nCook Time:\\n10 mins\\nAdditional Time:\\n20 mins\\nTotal Time:\\n35 mins\\nServings:\\n4\\n\\n Ingredients\\n\\n    3 tablespoons honey\\n\\n    3 tablespoons soy sauce\\n\\n    3 tablespoons balsamic vinegar\\n\\n    2 teaspoons olive oil\\n\\n    1 teaspoon grated fresh ginger root\\n\\n    1 clove garlic, crushed or to taste\\n\\n    4 (6 ounce) mahi mahi fillets\\n\\n    salt and pepper to taste\\n\\n    1 tablespoon vegetable oil\\n\\n\\n Directions\\n\\nStep 1\\n    Mix honey, soy sauce, balsamic vinegar, olive oil, ginger, and garlic together in a shallow dish. Season fish fillets with salt and pepper; place them skin-sides down in the dish with marinade. Cover and refrigerate for 20 minutes.\\n\\nStep 2\\n    Heat vegetable oil in a large skillet over medium-high heat. Remove fish fillets, reserving marinade. Fry fish for 4 to 6 minutes on each side, turning only once, until fish flakes easily with a fork. Remove fillets to a serving platter and keep warm.\\n\\nStep 3\\n    Pour reserved marinade into the skillet; simmer over medium heat until reduced to a glaze. Spoon glaze over fish and serve.',\n",
       " 'answer': 'D',\n",
       " 'category': 'MMVet-500',\n",
       " 'correctness': 1,\n",
       " 'image': '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'}"
      ]
     },
     "execution_count": 84,
     "metadata": {},
     "output_type": "execute_result"
    }
   ],
   "source": [
    "data[336]"
   ]
  },
  {
   "cell_type": "markdown",
   "metadata": {},
   "source": [
    "# Refine "
   ]
  },
  {
   "cell_type": "code",
   "execution_count": 166,
   "metadata": {},
   "outputs": [],
   "source": [
    "class Question(BaseModel):\n",
    "    distractors: list[str]\n",
    "\n",
    "client = OpenAI(timeout=20)\n",
    "\n",
    "def refine_question_with_image(image_base64: str, question: str, choices: list, correct_choice: str) -> str:\n",
    "    system_prompt = f\"\"\"\n",
    "    Your task is to refine the distractors (incorrect options) of a multiple-choice question by matching their capitalization style with the correct answer:\n",
    "\n",
    "    1. Analyze the capitalization pattern of the correct answer (e.g., \"Full Capitals\", \"first Letter Only\", \"all lowercase\", \"camelCase\", \"Title Case\")\n",
    "    2. Modify each distractor to follow the same capitalization pattern as the correct answer\n",
    "    - Every word position should match (first word, middle words, last word)\n",
    "    - Special terms, acronyms, and proper nouns should maintain their standard capitalization\n",
    "    3. Do not make any other changes to the distractors' content, length, or meaning\n",
    "    4. Do not modify the correct answer or question itself\n",
    "\n",
    "    If the distractors already match the correct answer's capitalization pattern, leave them unchanged.\n",
    "\n",
    "    Please output only the refined distractors.\n",
    "    \"\"\"\n",
    "\n",
    "    prompt = f\"\"\"\n",
    "    Correct Answer: ```{correct_choice}```\n",
    "    Distractors: ```{list(set(choices) - set([correct_choice]))}```\n",
    "    \"\"\"\n",
    "    print(prompt)\n",
    "\n",
    "    response = client.beta.chat.completions.parse(\n",
    "        model=\"gpt-4o\", \n",
    "        messages=[\n",
    "            {\"role\": \"system\", \"content\": dedent(system_prompt)}, # \"You are a helpful assistant.\"\n",
    "            {\"role\": \"user\", \"content\": [\n",
    "                {\n",
    "                    \"type\": \"text\",\n",
    "                    \"text\": dedent(prompt)\n",
    "                },\n",
    "                # {\n",
    "                #     \"type\": \"image_url\",\n",
    "                #     \"image_url\": {\n",
    "                #         \"url\": f\"data:image/jpeg;base64,{image_base64}\"\n",
    "                #     }\n",
    "                # }\n",
    "            ]}\n",
    "        ],\n",
    "        response_format=Question,\n",
    "        temperature=0  # Set to 0 for deterministic responses\n",
    "    )\n",
    "    \n",
    "    answer = response.choices[0].message.parsed.dict()\n",
    "    return answer\n",
    "\n"
   ]
  },
  {
   "cell_type": "code",
   "execution_count": 182,
   "metadata": {},
   "outputs": [
    {
     "name": "stdout",
     "output_type": "stream",
     "text": [
      "\n",
      "    Correct Answer: ```justin bieber and kim kardashian```\n",
      "    Distractors: ```['Elon Musk and Mark Zuckerberg', 'Barack Obama and Evan Williams', 'Taylor Swift and Beyoncé']```\n",
      "    \n"
     ]
    },
    {
     "data": {
      "text/plain": [
       "{'distractors': ['elon musk and mark zuckerberg',\n",
       "  'barack obama and evan williams',\n",
       "  'taylor swift and beyoncé']}"
      ]
     },
     "metadata": {},
     "output_type": "display_data"
    }
   ],
   "source": [
    "item = annotations[103] # 3, 103, 200\n",
    "prediction = refine_question_with_image(item[\"image\"], item[\"question\"], [item[\"A\"], item[\"B\"], item[\"C\"], item[\"D\"]], item[item[\"answer\"]])\n",
    "display(prediction)"
   ]
  },
  {
   "cell_type": "code",
   "execution_count": null,
   "metadata": {},
   "outputs": [],
   "source": []
  }
 ],
 "metadata": {
  "kernelspec": {
   "display_name": "vlmeval",
   "language": "python",
   "name": "python3"
  },
  "language_info": {
   "codemirror_mode": {
    "name": "ipython",
    "version": 3
   },
   "file_extension": ".py",
   "mimetype": "text/x-python",
   "name": "python",
   "nbconvert_exporter": "python",
   "pygments_lexer": "ipython3",
   "version": "3.10.0"
  }
 },
 "nbformat": 4,
 "nbformat_minor": 2
}
