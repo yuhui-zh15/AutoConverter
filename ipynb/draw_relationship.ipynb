{
 "cells": [
  {
   "cell_type": "code",
   "execution_count": 1,
   "metadata": {},
   "outputs": [],
   "source": [
    "import pandas as pd\n",
    "import base64\n",
    "from io import BytesIO\n",
    "from PIL import Image\n",
    "import matplotlib.pyplot as plt\n",
    "import random\n",
    "import numpy as np\n",
    "\n",
    "# random.seed(1234)\n",
    "# def parse_multi_choice_response(response, all_choices, index2ans):\n",
    "#     \"\"\"\n",
    "#     Parse the prediction from the generated response.\n",
    "#     Return the predicted index e.g., A, B, C, D.\n",
    "#     \"\"\"\n",
    "#     return response[0]\n",
    "#     response = str(response)\n",
    "#     for char in [',', '.', '!', '?', ';', ':', \"'\"]:\n",
    "#         response = response.strip(char)\n",
    "#     response = \" \" + response + \" \" # add space to avoid partial match\n",
    "\n",
    "#     index_ans = True\n",
    "#     ans_with_brack = False\n",
    "#     candidates = []\n",
    "#     for choice in all_choices:  # e.g., (A) (B) (C) (D)\n",
    "#         if f'({choice})' in response or f'{choice}. ' in response:\n",
    "#             candidates.append(choice)\n",
    "#             ans_with_brack = True\n",
    "\n",
    "#     if len(candidates) == 0:\n",
    "#         for choice in all_choices: # e.g., A B C D\n",
    "#             if f' {choice} ' in response:\n",
    "#                 candidates.append(choice)\n",
    "\n",
    "#     # if all above doesn't get candidates, check if the content is larger than 5 tokens and try to parse the example\n",
    "#     if len(candidates) == 0 and len(response.split()) > 5:\n",
    "#         for index, ans in index2ans.items():\n",
    "#             if ans.lower() in response.lower():\n",
    "#                 candidates.append(index)\n",
    "#                 index_ans = False # it's content ans.\n",
    "\n",
    "#     if len(candidates) == 0:  # still not get answer, randomly choose one.\n",
    "#         pred_index = None\n",
    "#     elif len(candidates) > 1:\n",
    "#         start_indexes = []\n",
    "#         if index_ans:\n",
    "#             if ans_with_brack: \n",
    "#                 for can in candidates:\n",
    "#                     index = response.rfind(f'({can})')\n",
    "#                     start_indexes.append(index) # -1 will be ignored anyway\n",
    "#                 # start_indexes = [generated_response.index(f'({can})') for can in candidates]\n",
    "#             else:\n",
    "#                 for can in candidates:\n",
    "#                     index = response.rfind(f\" {can} \")\n",
    "#                     start_indexes.append(index)\n",
    "#         else:\n",
    "#             for can in candidates:\n",
    "#                 index = response.lower().rfind(index2ans[can].lower())\n",
    "#                 start_indexes.append(index)\n",
    "#         # get the last one\n",
    "#         pred_index = candidates[np.argmax(start_indexes)]\n",
    "#     else: # if only one candidate, use it.\n",
    "#         pred_index = candidates[0]\n",
    "\n",
    "#     return pred_index\n",
    "\n",
    "\n",
    "def parse_multi_choice_response(response, all_choices, index2ans):\n",
    "    # return response[0]\n",
    "    \"\"\"\n",
    "    Parse the prediction from the generated response.\n",
    "    Return the predicted index e.g., A, B, C, D.\n",
    "    \"\"\"\n",
    "    for char in [\",\", \".\", \"!\", \"?\", \";\", \":\", \"'\"]:\n",
    "        response = response.strip(char)\n",
    "    response = \" \" + response + \" \"  # add space to avoid partial match\n",
    "\n",
    "    index_ans = True\n",
    "    ans_with_brack = False\n",
    "    candidates = []\n",
    "    for choice in all_choices:  # e.g., (A) (B) (C) (D)\n",
    "        if f\"({choice})\" in response:\n",
    "            candidates.append(choice)\n",
    "            ans_with_brack = True\n",
    "\n",
    "    if len(candidates) == 0:\n",
    "        for choice in all_choices:  # e.g., A B C D\n",
    "            if f\" {choice} \" in response or f'{choice}. ' in response:\n",
    "                candidates.append(choice)\n",
    "\n",
    "    # if all above doesn't get candidates, check if the content is larger than 5 tokens and try to parse the example\n",
    "    if len(candidates) == 0 and len(response.split()) > 5:\n",
    "        for index, ans in index2ans.items():\n",
    "            if ans.lower() in response.lower():\n",
    "                candidates.append(index)\n",
    "                index_ans = False  # it's content ans.\n",
    "\n",
    "    if len(candidates) == 0:  # still not get answer, randomly choose one.\n",
    "        pred_index = random.choice(all_choices)\n",
    "    elif len(candidates) > 1:\n",
    "        start_indexes = []\n",
    "        if index_ans:\n",
    "            if ans_with_brack:\n",
    "                for can in candidates:\n",
    "                    index = response.rfind(f\"({can})\")\n",
    "                    start_indexes.append(index)  # -1 will be ignored anyway\n",
    "                # start_indexes = [generated_response.index(f'({can})') for can in candidates]\n",
    "            else:\n",
    "                for can in candidates:\n",
    "                    index = response.rfind(f\" {can} \")\n",
    "                    start_indexes.append(index)\n",
    "        else:\n",
    "            for can in candidates:\n",
    "                index = response.lower().rfind(index2ans[can].lower())\n",
    "                start_indexes.append(index)\n",
    "        # get the last one\n",
    "        pred_index = candidates[np.argmax(start_indexes)]\n",
    "    else:  # if only one candidate, use it.\n",
    "        pred_index = candidates[0]\n",
    "\n",
    "    return pred_index\n",
    "\n",
    "\n",
    "# parse_multi_choice_response(\n",
    "#     \"So the correct answer is bbbbb.\",\n",
    "#     [\"A\", \"B\", \"C\", \"D\"],\n",
    "#     {\"A\": \"aaaaa\", \"B\": \"bbbbb\", \"C\": \"ccccc\", \"D\": \"ddddd\"},\n",
    "# )\n",
    "\n",
    "# def parse_multi_choice_response(response, all_choices, index2ans):\n",
    "#     \"\"\"\n",
    "#     Parse the prediction from the generated response.\n",
    "#     Return the predicted index e.g., A, B, C, D.\n",
    "#     \"\"\"\n",
    "#     for char in [',', '.', '!', '?', ';', ':', \"'\"]:\n",
    "#         response = response.strip(char)\n",
    "#     response = \" \" + response + \" \" # add space to avoid partial match\n",
    "\n",
    "#     index_ans = True\n",
    "#     ans_with_brack = False\n",
    "#     candidates = []\n",
    "#     for choice in all_choices:  # e.g., (A) (B) (C) (D)\n",
    "#         if f'({choice})' in response:\n",
    "#             candidates.append(choice)\n",
    "#             ans_with_brack = True\n",
    "\n",
    "#     if len(candidates) == 0:\n",
    "#         for choice in all_choices: # e.g., A B C D\n",
    "#             if f' {choice} ' in response:\n",
    "#                 candidates.append(choice)\n",
    "\n",
    "#     # if all above doesn't get candidates, check if the content is larger than 5 tokens and try to parse the example\n",
    "#     if len(candidates) == 0 and len(response.split()) > 5:\n",
    "#         for index, ans in index2ans.items():\n",
    "#             if ans.lower() in response.lower():\n",
    "#                 candidates.append(index)\n",
    "#                 index_ans = False # it's content ans.\n",
    "\n",
    "#     if len(candidates) == 0:  # still not get answer, randomly choose one.\n",
    "#         pred_index = random.choice(all_choices)\n",
    "#     elif len(candidates) > 1:\n",
    "#         start_indexes = []\n",
    "#         if index_ans:\n",
    "#             if ans_with_brack: \n",
    "#                 for can in candidates:\n",
    "#                     index = response.rfind(f'({can})')\n",
    "#                     start_indexes.append(index) # -1 will be ignored anyway\n",
    "#                 # start_indexes = [generated_response.index(f'({can})') for can in candidates]\n",
    "#             else:\n",
    "#                 for can in candidates:\n",
    "#                     index = response.rfind(f\" {can} \")\n",
    "#                     start_indexes.append(index)\n",
    "#         else:\n",
    "#             for can in candidates:\n",
    "#                 index = response.lower().rfind(index2ans[can].lower())\n",
    "#                 start_indexes.append(index)\n",
    "#         # get the last one\n",
    "#         pred_index = candidates[np.argmax(start_indexes)]\n",
    "#     else: # if only one candidate, use it.\n",
    "#         pred_index = candidates[0]\n",
    "\n",
    "#     return pred_index\n",
    "\n",
    "def evaluate_accuracy(xlsx_file):\n",
    "    data = pd.read_excel(xlsx_file).to_dict(\"records\")\n",
    "    accs = []\n",
    "    for item in data:\n",
    "\n",
    "        all_choices = [\"A\", \"B\", \"C\", \"D\"]\n",
    "\n",
    "        ################### MMMU ###################\n",
    "        all_choices_mapping = {chr(i): str(item[chr(i)]) for i in range(65, 65 + len(all_choices))}\n",
    "        pred_index = parse_multi_choice_response(str(item[\"prediction\"]), all_choices, all_choices_mapping)\n",
    "        # print(pred_index)\n",
    "        accs.append(pred_index == item[\"answer\"])\n",
    "\n",
    "        ################### MathVista ###################\n",
    "        # all_choice_strs = eval(item[\"choices\"])\n",
    "        # all_choices_mapping = {chr(i + 65): all_choice_strs[i] for i in range(len(all_choices))}\n",
    "        # pred_index = parse_multi_choice_response(str(item[\"prediction\"]), all_choices, all_choices_mapping)\n",
    "        # accs.append(\"ABCD\".index(pred_index) == all_choice_strs.index(item[\"answer\"]))\n",
    "        # print(\"ABCD\".index(pred_index), all_choice_strs.index(item[\"answer\"]))\n",
    "        \n",
    "\n",
    "\n",
    "    return sum(accs) / len(accs)\n",
    "\n",
    "# evaluate_accuracy(\"./yuchang_records_new/cambrian_8b/MathVista-357-MC_mc.xlsx\")\n",
    "# evaluate_accuracy(\"./yuchang_records_new/cambrian_8b/MMMU-1023-MC_mc.xlsx\")"
   ]
  },
  {
   "cell_type": "code",
   "execution_count": 21,
   "metadata": {},
   "outputs": [
    {
     "name": "stdout",
     "output_type": "stream",
     "text": [
      "                      acc_after_refine  acc_before_refine  acc_original  \\\n",
      "llava_v1.5_7b                    0.382              0.362         0.334   \n",
      "Qwen2-VL-7B-Instruct             0.572              0.526         0.524   \n",
      "Phi-3.5-Vision                   0.456              0.444         0.460   \n",
      "paligemma-3b-mix-448             0.306              0.284         0.332   \n",
      "\n",
      "                      acc_naive  \n",
      "llava_v1.5_7b             0.406  \n",
      "Qwen2-VL-7B-Instruct      0.590  \n",
      "Phi-3.5-Vision            0.502  \n",
      "paligemma-3b-mix-448      0.312  \n"
     ]
    }
   ],
   "source": [
    "import os\n",
    "\n",
    "# models = sorted([dir for dir in os.listdir(\"/pasteur2/u/yuhuiz/CVPR/AutoConverter/VLMEvalKit/outputs\") if \".csv\" not in dir])\n",
    "\n",
    "base_dir = \"/pasteur2/u/yuhuiz/CVPR/AutoConverter/VLMEvalKit/outputs\"\n",
    "models = [\"llava_v1.5_7b\", \"Qwen2-VL-7B-Instruct\", \"Phi-3.5-Vision\", \"paligemma-3b-mix-448\"]\n",
    "\n",
    "dataset = \"MMMU\" # \"MMMU_DEV_VAL_4choices\"\n",
    "# dataset = \"MathVista_MINI_4choices\"\n",
    "\n",
    "model2acc = {}\n",
    "for model in models:\n",
    "    model2acc[model] = {}\n",
    "    xlsx_file_original = f\"{base_dir}/{model}/{model}_{dataset}_original_20241110_1124.xlsx\"\n",
    "    xlsx_file_naive = f\"{base_dir}/{model}/{model}_{dataset}_naive_20241110_1124.xlsx\"\n",
    "    xlsx_file_before_refine = f\"{base_dir}/{model}/{model}_{dataset}_before_refine_20241110_1124.xlsx\"\n",
    "    xlsx_file_after_refine = f\"{base_dir}/{model}/{model}_{dataset}_after_refine_20241110_1124.xlsx\"\n",
    "    acc_original = evaluate_accuracy(xlsx_file_original)\n",
    "    acc_before_refine = evaluate_accuracy(xlsx_file_before_refine)\n",
    "    acc_after_refine = evaluate_accuracy(xlsx_file_after_refine)\n",
    "    acc_naive = evaluate_accuracy(xlsx_file_naive)\n",
    "    model2acc[model] = { \"acc_after_refine\": acc_after_refine, \"acc_before_refine\": acc_before_refine, \"acc_original\": acc_original , \"acc_naive\": acc_naive}\n",
    "    \n",
    "import pandas as pd\n",
    "print(pd.DataFrame(model2acc).T)\n",
    "\n",
    "    # xlsx_file_agent = f\"./yuchang_records_new/{model}/{dataset}-1403_mc.xlsx\"\n",
    "    # xlsx_file_original = f\"./yuchang_records_new/{model}/{dataset}_mc.xlsx\"\n",
    "    # xlsx_file_baseline = f\"./yuchang_records_new/{model}/{dataset}-4-v0_mc.xlsx\"\n",
    "    # if os.path.exists(xlsx_file_agent) and os.path.exists(xlsx_file_original) and os.path.exists(xlsx_file_baseline):\n",
    "    #     acc_agent = evaluate_accuracy(xlsx_file_agent)\n",
    "    #     acc_original = evaluate_accuracy(xlsx_file_original)\n",
    "    #     acc_baseline = evaluate_accuracy(xlsx_file_baseline)\n",
    "    #     model2acc[model] = {\"acc_agent\": acc_agent, \"acc_original\": acc_original, \"acc_baseline\": acc_baseline}\n",
    "\n",
    "# # draw a scatter plot to show acc_original (y-axis) vs acc_agent (x-axis) for each model\n",
    "# from matplotlib.axes import Axes\n",
    "# from matplotlib import pyplot as plt\n",
    "# import seaborn as sns\n",
    "\n",
    "# plt.rcParams[\"figure.dpi\"] = 300\n",
    "# plt.rcParams[\"savefig.dpi\"] = 300\n",
    "# sns.set_theme()\n",
    "# sns.set_context(\"paper\")  # paper, notebook, talk, and poster\n",
    "\n",
    "# plt.figure(figsize=(5, 5))\n",
    "# plt.scatter(\n",
    "#     [v[\"acc_agent\"] for v in model2acc.values()],\n",
    "#     [v[\"acc_original\"] for v in model2acc.values()],\n",
    "#     label=\"Agent vs Original\"\n",
    "# )\n",
    "\n",
    "# # draw the model name on the plot\n",
    "# for model, accs in model2acc.items():\n",
    "#     plt.text(accs[\"acc_agent\"], accs[\"acc_original\"], model, fontsize=2)\n",
    "\n",
    "# plt.scatter(\n",
    "#     [v[\"acc_baseline\"] for v in model2acc.values()],\n",
    "#     [v[\"acc_original\"] for v in model2acc.values()],\n",
    "#     label=\"Naive vs Original\"\n",
    "# )\n",
    "\n",
    "# min_val = min([v[\"acc_original\"] for v in model2acc.values()]) - 0.1\n",
    "# max_val = max([v[\"acc_original\"] for v in model2acc.values()]) + 0.1\n",
    "\n",
    "# # draw y = x from min to max\n",
    "# plt.plot([min_val, max_val], [min_val, max_val], color=\"black\", label=\"y=x\")\n",
    "\n",
    "# plt.xlabel(\"Accuracy of Converted Dataset\")\n",
    "# plt.ylabel(\"Accuracy of Original Dataset\")\n",
    "# plt.title(f\"Dataset: {dataset}\")\n",
    "# plt.legend()\n"
   ]
  },
  {
   "cell_type": "code",
   "execution_count": 153,
   "metadata": {},
   "outputs": [
    {
     "data": {
      "text/plain": [
       "0.374"
      ]
     },
     "execution_count": 153,
     "metadata": {},
     "output_type": "execute_result"
    }
   ],
   "source": [
    "evaluate_accuracy(\"/pasteur2/u/suyc/VLMEval/VLMEvalKit/outputs/llava_v1.5_7b/llava_v1.5_7b_MMMU-500-MC-v2.xlsx\")"
   ]
  },
  {
   "cell_type": "code",
   "execution_count": 154,
   "metadata": {},
   "outputs": [
    {
     "data": {
      "text/plain": [
       "0.35"
      ]
     },
     "execution_count": 154,
     "metadata": {},
     "output_type": "execute_result"
    }
   ],
   "source": [
    "evaluate_accuracy(\"/pasteur2/u/suyc/VLMEval/VLMEvalKit/outputs/llava_v1.5_7b/llava_v1.5_7b_MMMU-500-v2.xlsx\")"
   ]
  },
  {
   "cell_type": "code",
   "execution_count": null,
   "metadata": {},
   "outputs": [],
   "source": []
  },
  {
   "cell_type": "code",
   "execution_count": 155,
   "metadata": {},
   "outputs": [
    {
     "data": {
      "text/plain": [
       "0.28"
      ]
     },
     "execution_count": 155,
     "metadata": {},
     "output_type": "execute_result"
    }
   ],
   "source": [
    "evaluate_accuracy(\"/pasteur2/u/suyc/VLMEval/VLMEvalKit/outputs/paligemma-3b-mix-448/paligemma-3b-mix-448_MMMU-500-MC-v2.xlsx\")"
   ]
  },
  {
   "cell_type": "code",
   "execution_count": 156,
   "metadata": {},
   "outputs": [
    {
     "data": {
      "text/plain": [
       "0.34"
      ]
     },
     "execution_count": 156,
     "metadata": {},
     "output_type": "execute_result"
    }
   ],
   "source": [
    "evaluate_accuracy(\"/pasteur2/u/suyc/VLMEval/VLMEvalKit/outputs/paligemma-3b-mix-448/paligemma-3b-mix-448_MMMU-500-v2.xlsx\")"
   ]
  },
  {
   "cell_type": "code",
   "execution_count": null,
   "metadata": {},
   "outputs": [],
   "source": []
  },
  {
   "cell_type": "code",
   "execution_count": 157,
   "metadata": {},
   "outputs": [
    {
     "data": {
      "text/plain": [
       "0.448"
      ]
     },
     "execution_count": 157,
     "metadata": {},
     "output_type": "execute_result"
    }
   ],
   "source": [
    "evaluate_accuracy(\"/pasteur2/u/suyc/VLMEval/VLMEvalKit/outputs/Phi-3.5-Vision/Phi-3.5-Vision_MMMU-500-MC-v2.xlsx\")"
   ]
  },
  {
   "cell_type": "code",
   "execution_count": 158,
   "metadata": {},
   "outputs": [
    {
     "data": {
      "text/plain": [
       "0.456"
      ]
     },
     "execution_count": 158,
     "metadata": {},
     "output_type": "execute_result"
    }
   ],
   "source": [
    "evaluate_accuracy(\"/pasteur2/u/suyc/VLMEval/VLMEvalKit/outputs/Phi-3.5-Vision/Phi-3.5-Vision_MMMU-500-v2.xlsx\")"
   ]
  },
  {
   "cell_type": "code",
   "execution_count": null,
   "metadata": {},
   "outputs": [],
   "source": []
  },
  {
   "cell_type": "code",
   "execution_count": null,
   "metadata": {},
   "outputs": [],
   "source": []
  },
  {
   "cell_type": "code",
   "execution_count": null,
   "metadata": {},
   "outputs": [],
   "source": []
  },
  {
   "cell_type": "code",
   "execution_count": null,
   "metadata": {},
   "outputs": [],
   "source": []
  },
  {
   "cell_type": "code",
   "execution_count": null,
   "metadata": {},
   "outputs": [
    {
     "ename": "FileNotFoundError",
     "evalue": "[Errno 2] No such file or directory: '/pasteur2/u/suyc/VLMEval/VLMEvalKit/outputs/Qwen2-VL-7B-Instruct/Qwen2-VL-7B-Instruct_MMMU-500-MC-v2.xlsx'",
     "output_type": "error",
     "traceback": [
      "\u001b[0;31m---------------------------------------------------------------------------\u001b[0m",
      "\u001b[0;31mFileNotFoundError\u001b[0m                         Traceback (most recent call last)",
      "Cell \u001b[0;32mIn[159], line 1\u001b[0m\n\u001b[0;32m----> 1\u001b[0m \u001b[43mevaluate_accuracy\u001b[49m\u001b[43m(\u001b[49m\u001b[38;5;124;43m\"\u001b[39;49m\u001b[38;5;124;43m/pasteur2/u/suyc/VLMEval/VLMEvalKit/outputs/Qwen2-VL-7B-Instruct/Qwen2-VL-7B-Instruct_MMMU-500-MC-v2.xlsx\u001b[39;49m\u001b[38;5;124;43m\"\u001b[39;49m\u001b[43m)\u001b[49m\n",
      "Cell \u001b[0;32mIn[151], line 184\u001b[0m, in \u001b[0;36mevaluate_accuracy\u001b[0;34m(xlsx_file)\u001b[0m\n\u001b[1;32m    183\u001b[0m \u001b[38;5;28;01mdef\u001b[39;00m \u001b[38;5;21mevaluate_accuracy\u001b[39m(xlsx_file):\n\u001b[0;32m--> 184\u001b[0m     data \u001b[38;5;241m=\u001b[39m \u001b[43mpd\u001b[49m\u001b[38;5;241;43m.\u001b[39;49m\u001b[43mread_excel\u001b[49m\u001b[43m(\u001b[49m\u001b[43mxlsx_file\u001b[49m\u001b[43m)\u001b[49m\u001b[38;5;241m.\u001b[39mto_dict(\u001b[38;5;124m\"\u001b[39m\u001b[38;5;124mrecords\u001b[39m\u001b[38;5;124m\"\u001b[39m)\n\u001b[1;32m    185\u001b[0m     accs \u001b[38;5;241m=\u001b[39m []\n\u001b[1;32m    186\u001b[0m     \u001b[38;5;28;01mfor\u001b[39;00m item \u001b[38;5;129;01min\u001b[39;00m data:\n",
      "File \u001b[0;32m/pasteur2/u/yuhuiz/miniconda3/envs/vlmeval/lib/python3.10/site-packages/pandas/io/excel/_base.py:495\u001b[0m, in \u001b[0;36mread_excel\u001b[0;34m(io, sheet_name, header, names, index_col, usecols, dtype, engine, converters, true_values, false_values, skiprows, nrows, na_values, keep_default_na, na_filter, verbose, parse_dates, date_parser, date_format, thousands, decimal, comment, skipfooter, storage_options, dtype_backend, engine_kwargs)\u001b[0m\n\u001b[1;32m    493\u001b[0m \u001b[38;5;28;01mif\u001b[39;00m \u001b[38;5;129;01mnot\u001b[39;00m \u001b[38;5;28misinstance\u001b[39m(io, ExcelFile):\n\u001b[1;32m    494\u001b[0m     should_close \u001b[38;5;241m=\u001b[39m \u001b[38;5;28;01mTrue\u001b[39;00m\n\u001b[0;32m--> 495\u001b[0m     io \u001b[38;5;241m=\u001b[39m \u001b[43mExcelFile\u001b[49m\u001b[43m(\u001b[49m\n\u001b[1;32m    496\u001b[0m \u001b[43m        \u001b[49m\u001b[43mio\u001b[49m\u001b[43m,\u001b[49m\n\u001b[1;32m    497\u001b[0m \u001b[43m        \u001b[49m\u001b[43mstorage_options\u001b[49m\u001b[38;5;241;43m=\u001b[39;49m\u001b[43mstorage_options\u001b[49m\u001b[43m,\u001b[49m\n\u001b[1;32m    498\u001b[0m \u001b[43m        \u001b[49m\u001b[43mengine\u001b[49m\u001b[38;5;241;43m=\u001b[39;49m\u001b[43mengine\u001b[49m\u001b[43m,\u001b[49m\n\u001b[1;32m    499\u001b[0m \u001b[43m        \u001b[49m\u001b[43mengine_kwargs\u001b[49m\u001b[38;5;241;43m=\u001b[39;49m\u001b[43mengine_kwargs\u001b[49m\u001b[43m,\u001b[49m\n\u001b[1;32m    500\u001b[0m \u001b[43m    \u001b[49m\u001b[43m)\u001b[49m\n\u001b[1;32m    501\u001b[0m \u001b[38;5;28;01melif\u001b[39;00m engine \u001b[38;5;129;01mand\u001b[39;00m engine \u001b[38;5;241m!=\u001b[39m io\u001b[38;5;241m.\u001b[39mengine:\n\u001b[1;32m    502\u001b[0m     \u001b[38;5;28;01mraise\u001b[39;00m \u001b[38;5;167;01mValueError\u001b[39;00m(\n\u001b[1;32m    503\u001b[0m         \u001b[38;5;124m\"\u001b[39m\u001b[38;5;124mEngine should not be specified when passing \u001b[39m\u001b[38;5;124m\"\u001b[39m\n\u001b[1;32m    504\u001b[0m         \u001b[38;5;124m\"\u001b[39m\u001b[38;5;124man ExcelFile - ExcelFile already has the engine set\u001b[39m\u001b[38;5;124m\"\u001b[39m\n\u001b[1;32m    505\u001b[0m     )\n",
      "File \u001b[0;32m/pasteur2/u/yuhuiz/miniconda3/envs/vlmeval/lib/python3.10/site-packages/pandas/io/excel/_base.py:1550\u001b[0m, in \u001b[0;36mExcelFile.__init__\u001b[0;34m(self, path_or_buffer, engine, storage_options, engine_kwargs)\u001b[0m\n\u001b[1;32m   1548\u001b[0m     ext \u001b[38;5;241m=\u001b[39m \u001b[38;5;124m\"\u001b[39m\u001b[38;5;124mxls\u001b[39m\u001b[38;5;124m\"\u001b[39m\n\u001b[1;32m   1549\u001b[0m \u001b[38;5;28;01melse\u001b[39;00m:\n\u001b[0;32m-> 1550\u001b[0m     ext \u001b[38;5;241m=\u001b[39m \u001b[43minspect_excel_format\u001b[49m\u001b[43m(\u001b[49m\n\u001b[1;32m   1551\u001b[0m \u001b[43m        \u001b[49m\u001b[43mcontent_or_path\u001b[49m\u001b[38;5;241;43m=\u001b[39;49m\u001b[43mpath_or_buffer\u001b[49m\u001b[43m,\u001b[49m\u001b[43m \u001b[49m\u001b[43mstorage_options\u001b[49m\u001b[38;5;241;43m=\u001b[39;49m\u001b[43mstorage_options\u001b[49m\n\u001b[1;32m   1552\u001b[0m \u001b[43m    \u001b[49m\u001b[43m)\u001b[49m\n\u001b[1;32m   1553\u001b[0m     \u001b[38;5;28;01mif\u001b[39;00m ext \u001b[38;5;129;01mis\u001b[39;00m \u001b[38;5;28;01mNone\u001b[39;00m:\n\u001b[1;32m   1554\u001b[0m         \u001b[38;5;28;01mraise\u001b[39;00m \u001b[38;5;167;01mValueError\u001b[39;00m(\n\u001b[1;32m   1555\u001b[0m             \u001b[38;5;124m\"\u001b[39m\u001b[38;5;124mExcel file format cannot be determined, you must specify \u001b[39m\u001b[38;5;124m\"\u001b[39m\n\u001b[1;32m   1556\u001b[0m             \u001b[38;5;124m\"\u001b[39m\u001b[38;5;124man engine manually.\u001b[39m\u001b[38;5;124m\"\u001b[39m\n\u001b[1;32m   1557\u001b[0m         )\n",
      "File \u001b[0;32m/pasteur2/u/yuhuiz/miniconda3/envs/vlmeval/lib/python3.10/site-packages/pandas/io/excel/_base.py:1402\u001b[0m, in \u001b[0;36minspect_excel_format\u001b[0;34m(content_or_path, storage_options)\u001b[0m\n\u001b[1;32m   1399\u001b[0m \u001b[38;5;28;01mif\u001b[39;00m \u001b[38;5;28misinstance\u001b[39m(content_or_path, \u001b[38;5;28mbytes\u001b[39m):\n\u001b[1;32m   1400\u001b[0m     content_or_path \u001b[38;5;241m=\u001b[39m BytesIO(content_or_path)\n\u001b[0;32m-> 1402\u001b[0m \u001b[38;5;28;01mwith\u001b[39;00m \u001b[43mget_handle\u001b[49m\u001b[43m(\u001b[49m\n\u001b[1;32m   1403\u001b[0m \u001b[43m    \u001b[49m\u001b[43mcontent_or_path\u001b[49m\u001b[43m,\u001b[49m\u001b[43m \u001b[49m\u001b[38;5;124;43m\"\u001b[39;49m\u001b[38;5;124;43mrb\u001b[39;49m\u001b[38;5;124;43m\"\u001b[39;49m\u001b[43m,\u001b[49m\u001b[43m \u001b[49m\u001b[43mstorage_options\u001b[49m\u001b[38;5;241;43m=\u001b[39;49m\u001b[43mstorage_options\u001b[49m\u001b[43m,\u001b[49m\u001b[43m \u001b[49m\u001b[43mis_text\u001b[49m\u001b[38;5;241;43m=\u001b[39;49m\u001b[38;5;28;43;01mFalse\u001b[39;49;00m\n\u001b[1;32m   1404\u001b[0m \u001b[43m\u001b[49m\u001b[43m)\u001b[49m \u001b[38;5;28;01mas\u001b[39;00m handle:\n\u001b[1;32m   1405\u001b[0m     stream \u001b[38;5;241m=\u001b[39m handle\u001b[38;5;241m.\u001b[39mhandle\n\u001b[1;32m   1406\u001b[0m     stream\u001b[38;5;241m.\u001b[39mseek(\u001b[38;5;241m0\u001b[39m)\n",
      "File \u001b[0;32m/pasteur2/u/yuhuiz/miniconda3/envs/vlmeval/lib/python3.10/site-packages/pandas/io/common.py:882\u001b[0m, in \u001b[0;36mget_handle\u001b[0;34m(path_or_buf, mode, encoding, compression, memory_map, is_text, errors, storage_options)\u001b[0m\n\u001b[1;32m    873\u001b[0m         handle \u001b[38;5;241m=\u001b[39m \u001b[38;5;28mopen\u001b[39m(\n\u001b[1;32m    874\u001b[0m             handle,\n\u001b[1;32m    875\u001b[0m             ioargs\u001b[38;5;241m.\u001b[39mmode,\n\u001b[0;32m   (...)\u001b[0m\n\u001b[1;32m    878\u001b[0m             newline\u001b[38;5;241m=\u001b[39m\u001b[38;5;124m\"\u001b[39m\u001b[38;5;124m\"\u001b[39m,\n\u001b[1;32m    879\u001b[0m         )\n\u001b[1;32m    880\u001b[0m     \u001b[38;5;28;01melse\u001b[39;00m:\n\u001b[1;32m    881\u001b[0m         \u001b[38;5;66;03m# Binary mode\u001b[39;00m\n\u001b[0;32m--> 882\u001b[0m         handle \u001b[38;5;241m=\u001b[39m \u001b[38;5;28;43mopen\u001b[39;49m\u001b[43m(\u001b[49m\u001b[43mhandle\u001b[49m\u001b[43m,\u001b[49m\u001b[43m \u001b[49m\u001b[43mioargs\u001b[49m\u001b[38;5;241;43m.\u001b[39;49m\u001b[43mmode\u001b[49m\u001b[43m)\u001b[49m\n\u001b[1;32m    883\u001b[0m     handles\u001b[38;5;241m.\u001b[39mappend(handle)\n\u001b[1;32m    885\u001b[0m \u001b[38;5;66;03m# Convert BytesIO or file objects passed with an encoding\u001b[39;00m\n",
      "\u001b[0;31mFileNotFoundError\u001b[0m: [Errno 2] No such file or directory: '/pasteur2/u/suyc/VLMEval/VLMEvalKit/outputs/Qwen2-VL-7B-Instruct/Qwen2-VL-7B-Instruct_MMMU-500-MC-v2.xlsx'"
     ]
    }
   ],
   "source": [
    "evaluate_accuracy(\"/pasteur2/u/suyc/VLMEval/VLMEvalKit/outputs/Qwen2-VL-7B-Instruct/Qwen2-VL-7B-Instruct_MMMU-500-v2.xlsx\")"
   ]
  },
  {
   "cell_type": "code",
   "execution_count": null,
   "metadata": {},
   "outputs": [],
   "source": []
  },
  {
   "cell_type": "code",
   "execution_count": null,
   "metadata": {},
   "outputs": [],
   "source": []
  },
  {
   "cell_type": "code",
   "execution_count": 142,
   "metadata": {},
   "outputs": [
    {
     "data": {
      "text/plain": [
       "0.312"
      ]
     },
     "execution_count": 142,
     "metadata": {},
     "output_type": "execute_result"
    }
   ],
   "source": [
    "evaluate_accuracy(\"/pasteur2/u/yuhuiz/CVPR/AutoConverter/VLMEvalKit/outputs/llava_v1.5_7b/llava_v1.5_7b_MMMU_after_refine_20241110_1124.xlsx\")"
   ]
  },
  {
   "cell_type": "code",
   "execution_count": 143,
   "metadata": {},
   "outputs": [
    {
     "data": {
      "text/plain": [
       "0.288"
      ]
     },
     "execution_count": 143,
     "metadata": {},
     "output_type": "execute_result"
    }
   ],
   "source": [
    "evaluate_accuracy(\"/pasteur2/u/yuhuiz/CVPR/AutoConverter/VLMEvalKit/outputs/llava_v1.5_7b/llava_v1.5_7b_MMMU_original_20241110_1124.xlsx\")"
   ]
  },
  {
   "cell_type": "code",
   "execution_count": null,
   "metadata": {},
   "outputs": [
    {
     "name": "stdout",
     "output_type": "stream",
     "text": [
      "135\n"
     ]
    }
   ],
   "source": [
    "data = pd.read_excel(\"/pasteur2/u/yuhuiz/CVPR/AutoConverter/VLMEvalKit/outputs/llava_v1.5_7b/llava_v1.5_7b_MMMU_original_20241110_1124.xlsx\").to_dict(\"records\")\n",
    "data = pd.read_excel(\"/pasteur2/u/suyc/VLMEval/VLMEvalKit/outputs/llava_v1.5_7b/llava_v1.5_7b_MMMU-500-v2.xlsx\").to_dict(\"records\")\n",
    "\n",
    "all_choices = [\"A\", \"B\", \"C\", \"D\"]\n",
    "cnt = 0\n",
    "for item in data:\n",
    "    if item[\"prediction\"][0] not in all_choices:\n",
    "        cnt += 1\n",
    "print(cnt)"
   ]
  },
  {
   "cell_type": "code",
   "execution_count": 168,
   "metadata": {},
   "outputs": [
    {
     "name": "stdout",
     "output_type": "stream",
     "text": [
      "91\n"
     ]
    }
   ],
   "source": [
    "# data = pd.read_excel(\"/pasteur2/u/yuhuiz/CVPR/AutoConverter/VLMEvalKit/outputs/llava_v1.5_7b/llava_v1.5_7b_MMMU_before_refine_20241110_1124.xlsx\").to_dict(\"records\")\n",
    "data = pd.read_excel(\"/pasteur2/u/suyc/VLMEval/VLMEvalKit/outputs/llava_v1.5_7b/llava_v1.5_7b_MMMU-500-v2.xlsx\").to_dict(\"records\")\n",
    "\n",
    "all_choices = [\"A\", \"B\", \"C\", \"D\"]\n",
    "cnt = 0\n",
    "for item in data:\n",
    "    if item[\"prediction\"][0] not in all_choices:\n",
    "        cnt += 1\n",
    "print(cnt)"
   ]
  },
  {
   "cell_type": "code",
   "execution_count": null,
   "metadata": {},
   "outputs": [],
   "source": []
  }
 ],
 "metadata": {
  "kernelspec": {
   "display_name": "vlmeval",
   "language": "python",
   "name": "python3"
  },
  "language_info": {
   "codemirror_mode": {
    "name": "ipython",
    "version": 3
   },
   "file_extension": ".py",
   "mimetype": "text/x-python",
   "name": "python",
   "nbconvert_exporter": "python",
   "pygments_lexer": "ipython3",
   "version": "3.10.0"
  }
 },
 "nbformat": 4,
 "nbformat_minor": 2
}
