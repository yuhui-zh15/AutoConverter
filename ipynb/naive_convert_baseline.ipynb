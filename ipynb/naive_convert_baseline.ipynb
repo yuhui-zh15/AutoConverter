{
 "cells": [
  {
   "cell_type": "code",
   "execution_count": 1,
   "metadata": {},
   "outputs": [],
   "source": [
    "import json\n",
    "import glob\n",
    "import os\n",
    "import pandas as pd\n",
    "from PIL import Image\n",
    "import base64\n",
    "import io\n",
    "from openai import OpenAI\n",
    "from pydantic import BaseModel\n",
    "from textwrap import dedent\n",
    "from tqdm import tqdm, trange\n",
    "from copy import deepcopy\n",
    "import random\n",
    "\n",
    "\n",
    "client = OpenAI(timeout=20)\n",
    "\n",
    "\n",
    "def base64_to_image(base64_str):\n",
    "    image_data = base64.b64decode(base64_str)\n",
    "    image = Image.open(io.BytesIO(image_data))\n",
    "    return image\n",
    "\n",
    "\n",
    "class Question(BaseModel):\n",
    "    distractors: list[str]\n",
    "\n",
    "\n",
    "client = OpenAI(timeout=20)\n",
    "\n",
    "\n",
    "def judge_multichoice_correctness_with_image(\n",
    "    image_base64: str, question: str, choices: list, correct_choice: str\n",
    ") -> str:\n",
    "\n",
    "\n",
    "    prompt = f\"\"\"Generate 3 distractors for the following question with image:\n",
    "    Question: {question}\n",
    "    Answer: {correct_choice}\n",
    "    \"\"\"\n",
    "\n",
    "    response = client.beta.chat.completions.parse(\n",
    "        model=\"gpt-4o\",\n",
    "        messages=[\n",
    "            {\n",
    "                \"role\": \"user\",\n",
    "                \"content\": [\n",
    "                    {\"type\": \"text\", \"text\": dedent(prompt)},\n",
    "                    {\n",
    "                        \"type\": \"image_url\",\n",
    "                        \"image_url\": {\"url\": f\"data:image/jpeg;base64,{image_base64}\"},\n",
    "                    },\n",
    "                ],\n",
    "            },\n",
    "        ],\n",
    "        response_format=Question,\n",
    "        temperature=0,  # Set to 0 for deterministic responses\n",
    "    )\n",
    "\n",
    "    distractors = response.choices[0].message.parsed.dict()\n",
    "    return distractors\n",
    "\n",
    "\n"
   ]
  },
  {
   "cell_type": "code",
   "execution_count": 2,
   "metadata": {},
   "outputs": [
    {
     "data": {
      "text/plain": [
       "500"
      ]
     },
     "execution_count": 2,
     "metadata": {},
     "output_type": "execute_result"
    }
   ],
   "source": [
    "# data = [json.loads(line) for line in open(\"/pasteur2/u/yuhuiz/CVPR/AutoConverter/data/MMMU_DEV_VAL_4choices_20241102_2028.jsonl\")]\n",
    "data = pd.read_csv(\"/pasteur2/u/yuhuiz/CVPR/AutoConverter/data/MMMU-500-v2.tsv\", sep=\"\\t\").to_dict(orient=\"records\")\n",
    "\n",
    "\n",
    "# import random\n",
    "# random.seed(134)\n",
    "# data = random.sample(data, 300)\n",
    "len(data)"
   ]
  },
  {
   "cell_type": "code",
   "execution_count": 4,
   "metadata": {},
   "outputs": [
    {
     "data": {
      "text/plain": [
       "{'index': 1,\n",
       " 'question': 'Write the signal f(t) shown in <image 1> using the step functions.',\n",
       " 'A': '5t^2 [u(t) - u(t - 2)] + 20[u(t - 2) - u(t - 5)] + 15(t - 7)[u(t - 5) - u(t - 7)]',\n",
       " 'B': '5t^2 [u(t) - u(t - 2)] + 25[u(t - 2) - u(t - 5)] + 10(t - 7)[u(t - 5) - u(t - 7)]',\n",
       " 'C': '5t^2 [u(t) - u(t - 3)] + 20[u(t - 3) - u(t - 6)] + 15(t - 7)[u(t - 6) - u(t - 8)]',\n",
       " 'D': '5t^2 [u(t) - u(t - 1)] + 20[u(t - 1) - u(t - 4)] + 15(t - 6)[u(t - 4) - u(t - 6)]',\n",
       " 'answer': 'A',\n",
       " 'image': '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'}"
      ]
     },
     "execution_count": 4,
     "metadata": {},
     "output_type": "execute_result"
    }
   ],
   "source": [
    "from copy import deepcopy\n",
    "\n",
    "def process_item(item):\n",
    "    item = deepcopy(item)\n",
    "    distractors = judge_multichoice_correctness_with_image(\n",
    "        item[\"image\"],\n",
    "        item[\"question\"],\n",
    "        [item[\"A\"], item[\"B\"], item[\"C\"], item[\"D\"]],\n",
    "        item[item[\"answer\"]]\n",
    "    )\n",
    "    answer = item[item[\"answer\"]]\n",
    "    options = distractors[\"distractors\"] + [answer]\n",
    "    random.shuffle(options)\n",
    "    item[\"A\"], item[\"B\"], item[\"C\"], item[\"D\"] = options\n",
    "    item[\"answer\"] = \"ABCD\"[options.index(answer)]\n",
    "    return item\n",
    "\n",
    "process_item(data[0])"
   ]
  },
  {
   "cell_type": "code",
   "execution_count": 5,
   "metadata": {},
   "outputs": [
    {
     "name": "stderr",
     "output_type": "stream",
     "text": [
      "100%|██████████| 500/500 [00:42<00:00, 11.86it/s]\n"
     ]
    }
   ],
   "source": [
    "from concurrent.futures import ProcessPoolExecutor\n",
    "from tqdm import tqdm\n",
    "\n",
    "def parallel_judge(data):\n",
    "    with ProcessPoolExecutor(max_workers=32) as executor:\n",
    "        results = list(tqdm(executor.map(process_item, data), total=len(data)))\n",
    "    return results\n",
    "\n",
    "outputs = parallel_judge(data)"
   ]
  },
  {
   "cell_type": "code",
   "execution_count": 6,
   "metadata": {},
   "outputs": [],
   "source": [
    "with open(\"/pasteur2/u/yuhuiz/CVPR/AutoConverter/data/MMMU-500-v2-naive.jsonl\", \"w\") as f:\n",
    "    for item in outputs:\n",
    "        f.write(json.dumps(item) + \"\\n\")"
   ]
  },
  {
   "cell_type": "code",
   "execution_count": null,
   "metadata": {},
   "outputs": [],
   "source": [
    "# predictions = []\n",
    "# for item in tqdm(annotations):\n",
    "#     prediction = judge_multichoice_correctness_with_image(item[\"image\"], item[\"question\"], [item[\"A\"], item[\"B\"], item[\"C\"], item[\"D\"]], item[item[\"answer\"]])\n",
    "#     predictions.append(prediction)\n",
    "\n",
    "\n",
    "from concurrent.futures import ProcessPoolExecutor\n",
    "from tqdm import tqdm\n",
    "\n",
    "\n",
    "def parallel_judge(data):\n",
    "    with ProcessPoolExecutor(max_workers=32) as executor:\n",
    "        results = list(tqdm(executor.map(process_item, data), total=len(data)))\n",
    "    return results\n",
    "\n",
    "predictions = parallel_judge(data)"
   ]
  }
 ],
 "metadata": {
  "kernelspec": {
   "display_name": "vlmeval",
   "language": "python",
   "name": "python3"
  },
  "language_info": {
   "codemirror_mode": {
    "name": "ipython",
    "version": 3
   },
   "file_extension": ".py",
   "mimetype": "text/x-python",
   "name": "python",
   "nbconvert_exporter": "python",
   "pygments_lexer": "ipython3",
   "version": "3.10.0"
  }
 },
 "nbformat": 4,
 "nbformat_minor": 2
}
